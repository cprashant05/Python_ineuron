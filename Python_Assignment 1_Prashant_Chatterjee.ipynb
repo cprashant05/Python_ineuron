{
 "cells": [
  {
   "cell_type": "markdown",
   "id": "6a248229",
   "metadata": {},
   "source": [
    "#### 1.\tIn the below elements which of them are values or an expression? eg:- values can be integer or string and expressions will be mathematical operators."
   ]
  },
  {
   "cell_type": "markdown",
   "id": "434f9e97",
   "metadata": {},
   "source": [
    "#### Answer:\n",
    "\n",
    "- 1) * : multiplication (expression/operator)\n",
    "- 2) 'hello' : string(value)\n",
    "- 3) -87.8 : float(values)\n",
    "- 4) - : subtraction (expression/operator)\n",
    "- 5) / : division (expression/operator)\n",
    "- 6) + : addition (expression/operator)\n",
    "- 7) 6 : int(value)\n"
   ]
  },
  {
   "cell_type": "markdown",
   "id": "80731b51",
   "metadata": {},
   "source": [
    "#### 2.\tWhat is the difference between string and variable?"
   ]
  },
  {
   "cell_type": "markdown",
   "id": "629f1fd5",
   "metadata": {},
   "source": [
    "#### Answer:\n",
    "\n",
    "A variable is local or global instance where we store the data. It is something that holds a value that may change. \n",
    "\n",
    "Example: age =  24\n",
    "Here, age is the variable which is storing the value 24 which is an integer\n",
    "\n",
    "String is an immutable sequence data type. It is the sequence of Unicode characters inside single, double, or triple quotes.\n",
    "\n",
    "Example: “This is a string in Python”\n",
    "\n",
    "A variable can store a string but string can’t store a variable\n"
   ]
  },
  {
   "cell_type": "markdown",
   "id": "bbc5c271",
   "metadata": {},
   "source": [
    "#### 3.\tDescribe three different data types."
   ]
  },
  {
   "cell_type": "markdown",
   "id": "6be33b21",
   "metadata": {},
   "source": [
    "#### Answer:\n",
    "\n",
    "Python Data Types include:\n",
    "- A. Numeric Data Types\n",
    "    Type of Numeric Data Types are:\n",
    "        i.  Integer\n",
    "        ii  Float\n",
    "        iii Complex Number\n",
    "- B. Dictionary\n",
    "- C. Boolean\n",
    "- D. Set\n",
    "- E. Sequence Type\n",
    "    Type of Sequence Data Types are:\n",
    "        i.\tStrings\n",
    "        ii.\tList\n",
    "        iii.Tuples\n"
   ]
  },
  {
   "cell_type": "markdown",
   "id": "1fa82427",
   "metadata": {},
   "source": [
    "#### 4. What is an expression made up of? What do all expressions do?"
   ]
  },
  {
   "cell_type": "markdown",
   "id": "eb207e86",
   "metadata": {},
   "source": [
    "#### Answer: \n",
    "\n",
    "An expression is a combination of values, variables, operators, and calls to functions. Expressions need to be evaluated. If you ask Python to print an expression, the interpreter evaluates the expression and displays the result."
   ]
  },
  {
   "cell_type": "markdown",
   "id": "4d92af61",
   "metadata": {},
   "source": [
    "#### 5. This assignment statements, like spam = 10. What is the difference between an expression and a statement?"
   ]
  },
  {
   "cell_type": "markdown",
   "id": "ca4fcba8",
   "metadata": {},
   "source": [
    "#### Answer:\n",
    "\n",
    "A statement is an instruction that the Python interpreter can execute. \n",
    "\n",
    "When we type a statement on the command line, Python executes it and displays the result, if there is one. The result of a print statement is a value. Assignment statements don't produce a result.\n",
    "\n",
    "A script usually contains a sequence of statements. If there is more than one statement, the results appear one at a time as the statements execute. The assignment statement produces no output.\n",
    "\n",
    "------------------------------------------\n",
    "\n",
    "An expression is a combination of values, variables, operators, and calls to functions. Expressions need to be evaluated. If you ask Python to print an expression, the interpreter evaluates the expression and displays the result.\n",
    "\n",
    "Although expressions contain values, variables, and operators, not every expression contains all of these elements. A value all by itself is considered an expression, and so is a variable.\n",
    "\n"
   ]
  },
  {
   "cell_type": "markdown",
   "id": "6a12fab6",
   "metadata": {},
   "source": [
    "#### 6. After running the following code, what does the variable bacon contain?\n",
    "\n",
    "##### bacon = 22\n",
    "##### bacon + 1\n"
   ]
  },
  {
   "cell_type": "markdown",
   "id": "b20b9a0e",
   "metadata": {},
   "source": [
    "#### Asnwer:\n",
    "\n",
    "The Variable bacon will still store the value 22 as we have added 1 to the variable bacon but we haven’t assigned it back to the variable bacon. Hence, it will not get updated and the variable will continue to hold the value as 22"
   ]
  },
  {
   "cell_type": "markdown",
   "id": "0cef447c",
   "metadata": {},
   "source": [
    "#### 7. What should the values of the following two terms be?"
   ]
  },
  {
   "cell_type": "markdown",
   "id": "f64ff98a",
   "metadata": {},
   "source": [
    "#### Answer:\n",
    "\n",
    "'spam' + 'spamspam'\n",
    "\n",
    "Output: ‘spamspamspam’\n",
    "\n",
    "'spam' * 3\n",
    "\n",
    "Output: ‘spamspamspam’\n"
   ]
  },
  {
   "cell_type": "markdown",
   "id": "cde00776",
   "metadata": {},
   "source": [
    "#### 8. Why is eggs a valid variable name while 100 is invalid?"
   ]
  },
  {
   "cell_type": "markdown",
   "id": "9ae33b32",
   "metadata": {},
   "source": [
    "#### Answer: \n",
    "\n",
    "It will be difficult to interpret whether a numeric character in the compilation unit represented a literal or an identifier. So, the numerical value as a variable name will give error which is not in the case for eggs which is a valid variable name."
   ]
  },
  {
   "cell_type": "markdown",
   "id": "0fa09004",
   "metadata": {},
   "source": [
    "#### 9. What three functions can be used to get the integer, floating-point number, or string version of a value?"
   ]
  },
  {
   "cell_type": "markdown",
   "id": "e8e18edd",
   "metadata": {},
   "source": [
    "#### Answer:\n",
    "\n",
    "The int() , float() , and str( ) functions will evaluate to the integer, floating-point number, and string versions of the value passed to them."
   ]
  },
  {
   "cell_type": "markdown",
   "id": "867ac734",
   "metadata": {},
   "source": [
    "#### 10. Why does this expression cause an error? How can you fix it?\n",
    "\n",
    "##### 'I have eaten ' + 99 + ' burritos.'"
   ]
  },
  {
   "cell_type": "markdown",
   "id": "1a886879",
   "metadata": {},
   "source": [
    "#### Answer: "
   ]
  },
  {
   "cell_type": "markdown",
   "id": "39501f2e",
   "metadata": {},
   "source": [
    "We can only concatenate string to a string not integer to a string. Hence, it will give error.\n",
    "\n",
    "To rectify this we can do any of the following:\n",
    "\n",
    "1)\tWe can convert in integer 99 to string using function str()\n",
    "\n",
    "2)\tWe can store each of them in a variable, like \n",
    "\n",
    "a = “I have eaten ”\n",
    "\n",
    "b = 99\n",
    "\n",
    "c = “ burritos.\n",
    "\n",
    "And then use :\n",
    "\n",
    "i)\t % operator : print(“%s%s%s” % (a,b,c))\n",
    "\n",
    "ii)  format() function: print(\"{}{}{}\".format(a, b,c))\n",
    "\n",
    "iii) f-string:  print(f“{a}{b}{c}”) \n"
   ]
  },
  {
   "cell_type": "code",
   "execution_count": null,
   "id": "667ef23e",
   "metadata": {},
   "outputs": [],
   "source": []
  }
 ],
 "metadata": {
  "kernelspec": {
   "display_name": "Python 3",
   "language": "python",
   "name": "python3"
  },
  "language_info": {
   "codemirror_mode": {
    "name": "ipython",
    "version": 3
   },
   "file_extension": ".py",
   "mimetype": "text/x-python",
   "name": "python",
   "nbconvert_exporter": "python",
   "pygments_lexer": "ipython3",
   "version": "3.8.8"
  }
 },
 "nbformat": 4,
 "nbformat_minor": 5
}
