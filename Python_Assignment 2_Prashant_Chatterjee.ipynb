{
 "cells": [
  {
   "cell_type": "markdown",
   "id": "ca950647",
   "metadata": {},
   "source": [
    "#### 1.\tWhat are the two values of the Boolean data type? How do you write them?"
   ]
  },
  {
   "cell_type": "markdown",
   "id": "d0527b82",
   "metadata": {},
   "source": [
    "#### Answer: \n",
    "\n",
    "True and False, using capital T and F, with the rest of the word in lowercase\n"
   ]
  },
  {
   "cell_type": "markdown",
   "id": "1aa95885",
   "metadata": {},
   "source": [
    "#### 2.\tWhat are the three different types of Boolean operators?"
   ]
  },
  {
   "cell_type": "markdown",
   "id": "c803135e",
   "metadata": {},
   "source": [
    "#### Answer: \n",
    "\n",
    "Three different type of boolean operators are:\n",
    "- 1) AND\n",
    "- 2) OR\n",
    "- 3) NOT"
   ]
  },
  {
   "cell_type": "markdown",
   "id": "7133dcab",
   "metadata": {},
   "source": [
    "#### 3. Make a list of each Boolean operator's truth tables (i.e. every possible combination of Boolean values for the operator and what it evaluate )."
   ]
  },
  {
   "cell_type": "markdown",
   "id": "96c1f933",
   "metadata": {},
   "source": [
    "#### Answer: \n",
    "\n"
   ]
  },
  {
   "cell_type": "markdown",
   "id": "470baadf",
   "metadata": {},
   "source": [
    "#### AND Truth Table (x and y):\n",
    "\n",
    "- True and True = True \n",
    "- True and False = False\n",
    "- Flase and True = False\n",
    "- False and False = False\n",
    "\n",
    "#### OR Truth Table (x or y):\n",
    "\n",
    "- True or True = True \n",
    "- True or False = True\n",
    "- Flase or True = True\n",
    "- False or False = False\n",
    "\n",
    "#### NOT Truth Table (not x):\n",
    "\n",
    "- not True = False \n",
    "- not False = True\n"
   ]
  },
  {
   "cell_type": "markdown",
   "id": "1362f343",
   "metadata": {},
   "source": [
    "#### 4. What are the values of the following expressions?"
   ]
  },
  {
   "cell_type": "markdown",
   "id": "52c720ca",
   "metadata": {},
   "source": [
    "#### Answer:\n",
    "\n",
    "- (5 > 4) and (3 == 5)\n",
    "\n",
    "output: False\n",
    "\n",
    "- not (5 > 4)\n",
    "\n",
    "output: False\n",
    "\n",
    "- (5 > 4) or (3 == 5)\n",
    "\n",
    "output: True\n",
    "\n",
    "- not ((5 > 4) or (3 == 5))\n",
    "\n",
    "output: False\n",
    "\n",
    "- (True and True) and (True == False)\n",
    "\n",
    "output: False\n",
    "\n",
    "- (not False) or (not True)\n",
    "\n",
    "output: True"
   ]
  },
  {
   "cell_type": "markdown",
   "id": "ff165556",
   "metadata": {},
   "source": [
    "#### 5. What are the six comparison operators?"
   ]
  },
  {
   "cell_type": "markdown",
   "id": "458adabe",
   "metadata": {},
   "source": [
    "#### Answer:\n",
    "\n",
    " - equal to: ==\n",
    " - not equal to: !=\n",
    " - less than: <\n",
    " - less than or equal to : <=\n",
    " - greater than: >\n",
    " - greater than or equal to: >="
   ]
  },
  {
   "cell_type": "markdown",
   "id": "82d482bb",
   "metadata": {},
   "source": [
    "#### 6. How do you tell the difference between the equal to and assignment operators?Describe a condition and when you would use one."
   ]
  },
  {
   "cell_type": "markdown",
   "id": "1ac77d85",
   "metadata": {},
   "source": [
    "#### Answer:\n",
    "\n",
    "- == is equal to operator that compares two values and evaluates thr boolean value\n",
    "- = is assignment operator that stores a value in a variable"
   ]
  },
  {
   "cell_type": "markdown",
   "id": "b536cd94",
   "metadata": {},
   "source": [
    "#### 7. Identify the three blocks in this code:\n",
    "\n",
    "    spam = 0\n",
    "    if spam == 10:\n",
    "    print('eggs')\n",
    "    if spam > 5:\n",
    "    print('bacon')\n",
    "    else:\n",
    "    print('ham')\n",
    "    print('spam')\n",
    "    print('spam')"
   ]
  },
  {
   "cell_type": "markdown",
   "id": "8f44d112",
   "metadata": {},
   "source": [
    "#### Answer:"
   ]
  },
  {
   "cell_type": "code",
   "execution_count": 3,
   "id": "0c94224f",
   "metadata": {},
   "outputs": [
    {
     "name": "stdout",
     "output_type": "stream",
     "text": [
      "ham\n",
      "spam\n",
      "spam\n"
     ]
    }
   ],
   "source": [
    "# A code block is a piece of Python program text that is executed as a unit. \n",
    "# It is a collection of code that sits on the same indent.\n",
    "\n",
    "spam = 0\n",
    "\n",
    "if spam == 10:\n",
    "    print('eggs') # 1st - Code block \n",
    "\n",
    "if spam > 5:\n",
    "    print('bacon') # 2nd - Code block\n",
    "else:\n",
    "    print('ham') # 3rd - Code block\n",
    "\n",
    "print('spam')\n",
    "print('spam')\n"
   ]
  },
  {
   "cell_type": "markdown",
   "id": "d611ed2e",
   "metadata": {},
   "source": [
    "#### 8. Write code that prints Hello if 1 is stored in spam, prints Howdy if 2 is stored in spam, and prints Greetings! if anything else is stored in spam."
   ]
  },
  {
   "cell_type": "markdown",
   "id": "1048beaa",
   "metadata": {},
   "source": [
    "#### Answer:"
   ]
  },
  {
   "cell_type": "code",
   "execution_count": 11,
   "id": "b1b20b46",
   "metadata": {},
   "outputs": [
    {
     "name": "stdout",
     "output_type": "stream",
     "text": [
      "Enter a number between 1 t0 5 : 5\n",
      "Greetings!\n"
     ]
    }
   ],
   "source": [
    "spam = int(input(\"Enter a number between 1 t0 5 : \"))\n",
    "\n",
    "if spam == 1:\n",
    "    print(\"Hello\")\n",
    "elif spam == 2:\n",
    "    print(\"Howdy\")\n",
    "else:\n",
    "    print(\"Greetings!\")"
   ]
  },
  {
   "cell_type": "markdown",
   "id": "a0642785",
   "metadata": {},
   "source": [
    "#### 9.If your programme is stuck in an endless loop, what keys you’ll press?"
   ]
  },
  {
   "cell_type": "markdown",
   "id": "ec6af610",
   "metadata": {},
   "source": [
    "#### Answer:"
   ]
  },
  {
   "cell_type": "markdown",
   "id": "06eaac2c",
   "metadata": {},
   "source": [
    "Press CTRL-C to stop a program stuck in an infinite loop."
   ]
  },
  {
   "cell_type": "markdown",
   "id": "94e5a0b9",
   "metadata": {},
   "source": [
    "#### 10. How can you tell the difference between break and continue?"
   ]
  },
  {
   "cell_type": "markdown",
   "id": "2d244b3f",
   "metadata": {},
   "source": [
    "#### Answer:"
   ]
  },
  {
   "cell_type": "markdown",
   "id": "f656707e",
   "metadata": {},
   "source": [
    "- The break statement takes care of terminating the loop in which it is used. If the break statement is used inside nested loops, the current loop is terminated, and the flow will continue with the code followed that comes after the loop."
   ]
  },
  {
   "cell_type": "markdown",
   "id": "58d47ad6",
   "metadata": {},
   "source": [
    "- The continue statement skips the code that comes after it, and the control is passed back to the start for the next iteration."
   ]
  },
  {
   "cell_type": "markdown",
   "id": "adf66d4a",
   "metadata": {},
   "source": [
    "#### 11. In a for loop, what is the difference between range(10), range(0, 10), and range(0, 10, 1)?"
   ]
  },
  {
   "cell_type": "markdown",
   "id": "9a1b657f",
   "metadata": {},
   "source": [
    "The range() Parameters takes mainly three arguments which are: \n",
    "\n",
    "- start - integer starting from which the sequence of integers is to be returned\n",
    "- stop - integer before which the sequence of integers is to be returned.\n",
    "- step - integer value which determines the increment between each integer in the sequence\n",
    "\n",
    "Here, though the value of all three will be same but in range(10) we have nor mention the start not the steps/increments, and by default start will be taken as value 0 and step as value 1. In range(0,10) the start and end point are mentioned but step is not provided. And at last range(0,10,1) means to start from 0 and to end at 9 i.e. 1 value before the value 10, and the steps or increments will be 1 in this sequence.  "
   ]
  },
  {
   "cell_type": "markdown",
   "id": "0ce1250a",
   "metadata": {},
   "source": [
    "#### 12. Write a short program that prints the numbers 1 to 10 using a for loop. Then write an equivalent program that prints the numbers 1 to 10 using a while loop."
   ]
  },
  {
   "cell_type": "markdown",
   "id": "8568c99a",
   "metadata": {},
   "source": [
    "#### Answer:"
   ]
  },
  {
   "cell_type": "code",
   "execution_count": 16,
   "id": "376f281d",
   "metadata": {},
   "outputs": [
    {
     "name": "stdout",
     "output_type": "stream",
     "text": [
      "1\n",
      "2\n",
      "3\n",
      "4\n",
      "5\n",
      "6\n",
      "7\n",
      "8\n",
      "9\n",
      "10\n"
     ]
    }
   ],
   "source": [
    "for i in range(1,11):\n",
    "    print(i)"
   ]
  },
  {
   "cell_type": "code",
   "execution_count": 23,
   "id": "e6e55e24",
   "metadata": {},
   "outputs": [
    {
     "name": "stdout",
     "output_type": "stream",
     "text": [
      "1\n",
      "2\n",
      "3\n",
      "4\n",
      "5\n",
      "6\n",
      "7\n",
      "8\n",
      "9\n",
      "10\n"
     ]
    }
   ],
   "source": [
    "a = 1\n",
    "\n",
    "while a <= 10:\n",
    "    print(a)\n",
    "    a += 1"
   ]
  },
  {
   "cell_type": "markdown",
   "id": "30b8c964",
   "metadata": {},
   "source": [
    "#### 13. If you had a function named bacon() inside a module named spam, how would you call it after importing spam?"
   ]
  },
  {
   "cell_type": "markdown",
   "id": "f537a110",
   "metadata": {},
   "source": [
    "#### Answer:"
   ]
  },
  {
   "cell_type": "markdown",
   "id": "4ffe89d5",
   "metadata": {},
   "source": [
    "This function can be called with spam.bacon()."
   ]
  },
  {
   "cell_type": "code",
   "execution_count": null,
   "id": "a0a4cdcc",
   "metadata": {},
   "outputs": [],
   "source": []
  }
 ],
 "metadata": {
  "kernelspec": {
   "display_name": "Python 3",
   "language": "python",
   "name": "python3"
  },
  "language_info": {
   "codemirror_mode": {
    "name": "ipython",
    "version": 3
   },
   "file_extension": ".py",
   "mimetype": "text/x-python",
   "name": "python",
   "nbconvert_exporter": "python",
   "pygments_lexer": "ipython3",
   "version": "3.8.8"
  }
 },
 "nbformat": 4,
 "nbformat_minor": 5
}
