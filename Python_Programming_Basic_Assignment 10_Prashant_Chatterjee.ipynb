{
 "cells": [
  {
   "cell_type": "markdown",
   "id": "1f597e39",
   "metadata": {},
   "source": [
    "#### 1.\tWrite a Python program to find sum of elements in list?"
   ]
  },
  {
   "cell_type": "markdown",
   "id": "8327374d",
   "metadata": {},
   "source": [
    "#### Answer:"
   ]
  },
  {
   "cell_type": "code",
   "execution_count": 5,
   "id": "e946b4b2",
   "metadata": {},
   "outputs": [],
   "source": [
    "def sum_of_elements(n):\n",
    "    s = 0\n",
    "    for i in n:\n",
    "        s = s + i\n",
    "    return (\"Sum of all the elements in the list is : {}\".format(s))"
   ]
  },
  {
   "cell_type": "code",
   "execution_count": 17,
   "id": "7952b9f3",
   "metadata": {},
   "outputs": [
    {
     "name": "stdout",
     "output_type": "stream",
     "text": [
      "Enter the integer elements of list separated by comma: 2,4,6,8,10\n",
      "\n",
      "List inputed by you is  [2, 4, 6, 8, 10]\n",
      "\n",
      "Sum of all the elements in the list is : 30\n"
     ]
    }
   ],
   "source": [
    "input_string = input(\"Enter the integer elements of list separated by comma: \")\n",
    "\n",
    "list1  = input_string.split(\",\")\n",
    "list_final = []\n",
    "try:\n",
    "    for i in list1:\n",
    "        list_final.append(int(i))\n",
    "    print()\n",
    "    print(\"List inputed by you is \",list_final)\n",
    "    print()\n",
    "    print(sum_of_elements(list_final))\n",
    "except ValueError:\n",
    "    print(\"Error: String or empty value not allowed\")"
   ]
  },
  {
   "cell_type": "markdown",
   "id": "59e0a2e1",
   "metadata": {},
   "source": [
    "#### 2.\tWrite a Python program to  Multiply all numbers in the list?"
   ]
  },
  {
   "cell_type": "markdown",
   "id": "2c7ab55f",
   "metadata": {},
   "source": [
    "#### Answer:"
   ]
  },
  {
   "cell_type": "code",
   "execution_count": 61,
   "id": "1f73265a",
   "metadata": {},
   "outputs": [
    {
     "name": "stdout",
     "output_type": "stream",
     "text": [
      "Enter the integer elements of list separated by comma: 2,4,6,8,10\n",
      "3840\n"
     ]
    }
   ],
   "source": [
    "import math\n",
    "\n",
    "input_string = input(\"Enter the integer elements of list separated by comma: \")\n",
    "\n",
    "list1  = input_string.split(\",\")\n",
    "list_final = []\n",
    "\n",
    "try:\n",
    "    for i in list1:\n",
    "        list_final.append(int(i))\n",
    "    \n",
    "    result = math.prod(list_final)\n",
    "    print(result)\n",
    "except ValueError:\n",
    "    print(\"Error: String or empty value not allowed\")"
   ]
  },
  {
   "cell_type": "markdown",
   "id": "9b14754f",
   "metadata": {},
   "source": [
    "#### 3.\tWrite a Python program to find smallest number in a list?"
   ]
  },
  {
   "cell_type": "markdown",
   "id": "c50ac944",
   "metadata": {},
   "source": [
    "#### Answer:"
   ]
  },
  {
   "cell_type": "code",
   "execution_count": 21,
   "id": "e8d89d94",
   "metadata": {},
   "outputs": [],
   "source": [
    "def min_number(l):\n",
    "    min_element = int(l[0])\n",
    "\n",
    "    for i in range(len(l)):\n",
    "        if int(l[i]) < int(min_element):\n",
    "            min_element = l[i]\n",
    "            \n",
    "    return min_element"
   ]
  },
  {
   "cell_type": "code",
   "execution_count": 28,
   "id": "6c48c894",
   "metadata": {},
   "outputs": [
    {
     "name": "stdout",
     "output_type": "stream",
     "text": [
      "Enter the integer elements of list separated by comma: 2,4,6,8,10,12\n",
      "\n",
      "List inputed by you is  [2, 4, 6, 8, 10, 12]\n",
      "\n",
      "Smallest number in the list is  2\n"
     ]
    }
   ],
   "source": [
    "input_string = input(\"Enter the integer elements of list separated by comma: \")\n",
    "\n",
    "list1  = input_string.split(\",\")\n",
    "list_final = []\n",
    "try:\n",
    "    for i in list1:\n",
    "        list_final.append(int(i))\n",
    "\n",
    "    print()\n",
    "    print(\"List inputed by you is \",list_final)\n",
    "    print()\n",
    "    print (\"Smallest number in the list is \",min_number(list_final))\n",
    "except ValueError:\n",
    "    print(\"Error: String or empty value not allowed\")"
   ]
  },
  {
   "cell_type": "markdown",
   "id": "1404207c",
   "metadata": {},
   "source": [
    "\n",
    "#### 4.\tWrite a Python program to find largest number in a list?"
   ]
  },
  {
   "cell_type": "markdown",
   "id": "ee511d16",
   "metadata": {},
   "source": [
    "#### Answer:"
   ]
  },
  {
   "cell_type": "code",
   "execution_count": 19,
   "id": "ea12084d",
   "metadata": {},
   "outputs": [],
   "source": [
    "def max_number(l):\n",
    "    max_element = int(l[0])\n",
    "\n",
    "    for i in range(len(l)):\n",
    "        if int(l[i]) > int(max_element):\n",
    "            max_element = l[i]\n",
    "            \n",
    "    return max_element\n",
    "    "
   ]
  },
  {
   "cell_type": "code",
   "execution_count": 29,
   "id": "93a6ce14",
   "metadata": {},
   "outputs": [
    {
     "name": "stdout",
     "output_type": "stream",
     "text": [
      "Enter the integer elements of list separated by comma: 2,4,6,8,10,12\n",
      "\n",
      "List inputed by you is  [2, 4, 6, 8, 10, 12]\n",
      "\n",
      "Largest number in the list is  12\n"
     ]
    }
   ],
   "source": [
    "input_string = input(\"Enter the integer elements of list separated by comma: \")\n",
    "\n",
    "list1  = input_string.split(\",\")\n",
    "list_final = []\n",
    "\n",
    "try:\n",
    "    for i in list1:\n",
    "        list_final.append(int(i))\n",
    "\n",
    "    print()\n",
    "    print(\"List inputed by you is \",list_final)\n",
    "    print()\n",
    "    print (\"Largest number in the list is \",max_number(list_final))\n",
    "except ValueError:\n",
    "    print(\"Error: String or empty value not allowed\")"
   ]
  },
  {
   "cell_type": "markdown",
   "id": "daa46f26",
   "metadata": {},
   "source": [
    "#### 5.\tWrite a Python program to find second largest number in a list?"
   ]
  },
  {
   "cell_type": "markdown",
   "id": "2b4e9584",
   "metadata": {},
   "source": [
    "#### Answer:"
   ]
  },
  {
   "cell_type": "code",
   "execution_count": 45,
   "id": "568fda20",
   "metadata": {},
   "outputs": [
    {
     "name": "stdout",
     "output_type": "stream",
     "text": [
      "Enter the integer elements of list separated by comma: -5, -23, 5, 0, 23, -6, 23, 67\n",
      "Second largest number in a list is :  23\n"
     ]
    }
   ],
   "source": [
    "# Method 1: Using sort function\n",
    "\n",
    "input_string = input(\"Enter the integer elements of list separated by comma: \")\n",
    "\n",
    "list1  = input_string.split(\",\")\n",
    "list_final = []\n",
    "\n",
    "try:\n",
    "    for i in list1:\n",
    "        list_final.append(int(i))\n",
    "\n",
    "    list_final.sort(reverse=True)\n",
    "    print(\"Second largest number in a list is : \", list_final[1])\n",
    "except ValueError:\n",
    "    print(\"Error: String or empty value not allowed\")"
   ]
  },
  {
   "cell_type": "code",
   "execution_count": 51,
   "id": "dcdb42b8",
   "metadata": {},
   "outputs": [
    {
     "name": "stdout",
     "output_type": "stream",
     "text": [
      "Enter the integer elements of list separated by comma: -5, -23, 5, 0, 23, -6, 23, 67\n",
      "[67, 23, 23, 5, 0, -5, -6, -23]\n",
      "Second largest number in a list is :  23\n"
     ]
    }
   ],
   "source": [
    "input_string = input(\"Enter the integer elements of list separated by comma: \")\n",
    "\n",
    "list1  = input_string.split(\",\")\n",
    "list_final = []\n",
    "\n",
    "try:\n",
    "    for i in list1:\n",
    "        list_final.append(int(i))\n",
    "\n",
    "    new_list = []\n",
    "\n",
    "    while list_final:\n",
    "        maximum = list_final[0]  \n",
    "        for x in list_final: \n",
    "            if x > maximum:\n",
    "                maximum = x\n",
    "        new_list.append(maximum)\n",
    "        list_final.remove(maximum)  \n",
    "    print(new_list)\n",
    "    print(\"Second largest number in a list is : \", new_list[1])\n",
    "except ValueError:\n",
    "    print(\"Error: String or empty value not allowed\")"
   ]
  },
  {
   "cell_type": "markdown",
   "id": "22fc53bd",
   "metadata": {},
   "source": [
    "#### 6.\tWrite a Python program to find N largest elements from a list?"
   ]
  },
  {
   "cell_type": "code",
   "execution_count": 53,
   "id": "8eb39143",
   "metadata": {},
   "outputs": [],
   "source": [
    "def desc_list(l):\n",
    "    new_list = []\n",
    "    while l:\n",
    "        maximum = l[0]  \n",
    "        for x in l: \n",
    "            if x > maximum:\n",
    "                maximum = x\n",
    "        new_list.append(maximum)\n",
    "        l.remove(maximum)  \n",
    "    return new_list"
   ]
  },
  {
   "cell_type": "code",
   "execution_count": 60,
   "id": "bdf9f0f6",
   "metadata": {},
   "outputs": [
    {
     "name": "stdout",
     "output_type": "stream",
     "text": [
      "Enter the integer elements of list separated by comma: -5, -23, 5, 0, 23, -6, 23, 67\n",
      "Enter the nth largest number you want to find in the list: 2\n",
      "[67, 23, 23, 5, 0, -5, -6, -23]\n",
      "N largest number in a list is : 23\n"
     ]
    }
   ],
   "source": [
    "input_string = input(\"Enter the integer elements of list separated by comma: \")\n",
    "n = int(input(\"Enter the nth largest number you want to find in the list: \"))\n",
    "\n",
    "list1  = input_string.split(\",\")\n",
    "list_final = []\n",
    "\n",
    "try:\n",
    "    for i in list1:\n",
    "        list_final.append(int(i))\n",
    "    \n",
    "    desending_list = desc_list(list_final)\n",
    "    print(desending_list)\n",
    "    print((\"N largest number in a list is : {}\".format(desending_list[n-1])))\n",
    "except ValueError:\n",
    "    print(\"Error: String or empty value not allowed\")\n"
   ]
  },
  {
   "cell_type": "markdown",
   "id": "85d5cbb7",
   "metadata": {},
   "source": [
    "#### 7.\tWrite a Python program to print even numbers in a list?"
   ]
  },
  {
   "cell_type": "code",
   "execution_count": 34,
   "id": "e26cb70f",
   "metadata": {},
   "outputs": [],
   "source": [
    "def even_num(l):\n",
    "    even_list = []\n",
    "    for i in l:\n",
    "        if i%2 == 0:\n",
    "            even_list.append(i)\n",
    "    return even_list"
   ]
  },
  {
   "cell_type": "code",
   "execution_count": 36,
   "id": "9832c687",
   "metadata": {},
   "outputs": [
    {
     "name": "stdout",
     "output_type": "stream",
     "text": [
      "Enter the integer elements of list separated by comma: 1,2,3,4,5,6,7,8,9,10\n",
      "\n",
      "List inputed by you is  [1, 2, 3, 4, 5, 6, 7, 8, 9, 10]\n",
      "\n",
      "Even number in the list is  [2, 4, 6, 8, 10]\n"
     ]
    }
   ],
   "source": [
    "input_string = input(\"Enter the integer elements of list separated by comma: \")\n",
    "\n",
    "list1  = input_string.split(\",\")\n",
    "list_final = []\n",
    "\n",
    "try:\n",
    "    for i in list1:\n",
    "        list_final.append(int(i))\n",
    "\n",
    "    print()\n",
    "    print(\"List inputed by you is \",list_final)\n",
    "    print()\n",
    "    print (\"Even number in the list is \",even_num(list_final))\n",
    "except ValueError:\n",
    "    print(\"Error: String or empty value not allowed\")"
   ]
  },
  {
   "cell_type": "markdown",
   "id": "13409ed0",
   "metadata": {},
   "source": [
    "#### 8.\tWrite a Python program to print odd numbers in a List?"
   ]
  },
  {
   "cell_type": "code",
   "execution_count": 30,
   "id": "dca47784",
   "metadata": {},
   "outputs": [],
   "source": [
    "def odd_num(l):\n",
    "    odd_list = []\n",
    "    for i in l:\n",
    "        if i%2 != 0:\n",
    "            odd_list.append(i)\n",
    "    return odd_list"
   ]
  },
  {
   "cell_type": "code",
   "execution_count": 31,
   "id": "28ada2f5",
   "metadata": {},
   "outputs": [
    {
     "name": "stdout",
     "output_type": "stream",
     "text": [
      "Enter the integer elements of list separated by comma: 1,2,3,4,5,6,7,8,9,10\n",
      "\n",
      "List inputed by you is  [1, 2, 3, 4, 5, 6, 7, 8, 9, 10]\n",
      "\n",
      "Odd number in the list is  [1, 3, 5, 7, 9]\n"
     ]
    }
   ],
   "source": [
    "input_string = input(\"Enter the integer elements of list separated by comma: \")\n",
    "\n",
    "list1  = input_string.split(\",\")\n",
    "list_final = []\n",
    "\n",
    "try:\n",
    "    for i in list1:\n",
    "        list_final.append(int(i))\n",
    "\n",
    "    print()\n",
    "    print(\"List inputed by you is \",list_final)\n",
    "    print()\n",
    "    print (\"Odd number in the list is \",odd_num(list_final))\n",
    "except ValueError:\n",
    "    print(\"Error: String or empty value not allowed\")"
   ]
  },
  {
   "cell_type": "markdown",
   "id": "f3dd4571",
   "metadata": {},
   "source": [
    "#### 9.\tWrite a Python program to Remove empty List from List?"
   ]
  },
  {
   "cell_type": "code",
   "execution_count": 32,
   "id": "e6f57441",
   "metadata": {},
   "outputs": [
    {
     "name": "stdout",
     "output_type": "stream",
     "text": [
      "Enter the elements of list separated by comma: 1,2,'a','b',[],3,4,'f'\n",
      "New list after removal of empty list is :  [1, 2, 'a', 'b', 3, 4, 'f']\n"
     ]
    }
   ],
   "source": [
    "try:\n",
    "    import ast\n",
    "    input_list = ast.literal_eval(input(\"Enter the elements of list separated by comma: \"))\n",
    "    list_final = list(input_list)\n",
    "\n",
    "    new_list = []\n",
    "\n",
    "    for i in list_final:\n",
    "        if i != []:\n",
    "            new_list.append(i)\n",
    "\n",
    "    print(\"New list after removal of empty list is : \",new_list)\n",
    "except Exception as e:\n",
    "    print(e)"
   ]
  },
  {
   "cell_type": "markdown",
   "id": "4e470951",
   "metadata": {},
   "source": [
    "#### 10.\tWrite a Python program to Cloning or Copying a list?"
   ]
  },
  {
   "cell_type": "code",
   "execution_count": 40,
   "id": "669ed7fe",
   "metadata": {},
   "outputs": [
    {
     "name": "stdout",
     "output_type": "stream",
     "text": [
      "Enter the Original list: [1,2,3,4,5,6,'a','b','c']\n",
      "Original List: [1, 2, 3, 4, 5, 6, 'a', 'b', 'c']\n",
      "After Cloning: [1, 2, 3, 4, 5, 6, 'a', 'b', 'c']\n"
     ]
    }
   ],
   "source": [
    "def Cloning(list_original):\n",
    "    list_clone = list_original[:]\n",
    "    return list_clone\n",
    "\n",
    "try:\n",
    "    original_list = ast.literal_eval(input(\"Enter the Original list: \"))\n",
    "    # li1 = [4, 8, 2, 10, 15, 18]\n",
    "    clone_list = Cloning(original_list)\n",
    "    print(\"Original List:\", original_list)\n",
    "    print(\"After Cloning:\", clone_list)\n",
    "except Exception as e:\n",
    "    print(\"Error: \", e)\n",
    "    print(\"Re-run the program and enter a correct value\")"
   ]
  },
  {
   "cell_type": "markdown",
   "id": "5d5985b2",
   "metadata": {},
   "source": [
    "#### 11.\tWrite a Python program to Count occurrences of an element in a list?"
   ]
  },
  {
   "cell_type": "code",
   "execution_count": 24,
   "id": "504b7eb9",
   "metadata": {},
   "outputs": [
    {
     "name": "stdout",
     "output_type": "stream",
     "text": [
      "Enter the elements of list separated by comma: 'a','a','a','a','b','b','b','c','c','d',1,1,1,1,2,2,2,3,3,4,[1,1,1,2,'a','a',2,'b','c','c','c']\n",
      "b : 4\n",
      "1 : 7\n",
      "2 : 5\n",
      "3 : 2\n",
      "c : 5\n",
      "4 : 1\n",
      "a : 6\n",
      "d : 1\n"
     ]
    }
   ],
   "source": [
    "import ast\n",
    "input_list = ast.literal_eval(input(\"Enter the elements of list separated by comma: \"))\n",
    "list_final = list(input_list)\n",
    "flat_list = []\n",
    "\n",
    "try:\n",
    "    \n",
    "    for a in list_final:\n",
    "        if type(a) == int or type(a) == str:\n",
    "            flat_list.append(a)\n",
    "\n",
    "\n",
    "    for i in list_final:\n",
    "        if type(i) == list or type(i) == tuple or type(i) == set:\n",
    "            for j in i:\n",
    "                flat_list.append(j)\n",
    "\n",
    "    for m in list_final:\n",
    "        if type(m) == dict:\n",
    "            for k,n in m.items():\n",
    "                flat_list.append(k)\n",
    "                flat_list.append(n)\n",
    "\n",
    "    for i in set(flat_list):\n",
    "        print(i,\":\",flat_list.count(i))\n",
    "\n",
    "except Exception as e:\n",
    "    print(e)"
   ]
  }
 ],
 "metadata": {
  "kernelspec": {
   "display_name": "Python 3",
   "language": "python",
   "name": "python3"
  },
  "language_info": {
   "codemirror_mode": {
    "name": "ipython",
    "version": 3
   },
   "file_extension": ".py",
   "mimetype": "text/x-python",
   "name": "python",
   "nbconvert_exporter": "python",
   "pygments_lexer": "ipython3",
   "version": "3.8.8"
  }
 },
 "nbformat": 4,
 "nbformat_minor": 5
}
