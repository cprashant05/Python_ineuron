{
 "cells": [
  {
   "cell_type": "markdown",
   "id": "78e145db",
   "metadata": {},
   "source": [
    "#### 1.\tWrite a Python program to print \"Hello Python\"?"
   ]
  },
  {
   "cell_type": "markdown",
   "id": "8327374d",
   "metadata": {},
   "source": [
    "#### Answer:"
   ]
  },
  {
   "cell_type": "code",
   "execution_count": 1,
   "id": "e946b4b2",
   "metadata": {},
   "outputs": [
    {
     "name": "stdout",
     "output_type": "stream",
     "text": [
      "Hello Python\n"
     ]
    }
   ],
   "source": [
    "print(\"Hello Python\")"
   ]
  },
  {
   "cell_type": "markdown",
   "id": "59e0a2e1",
   "metadata": {},
   "source": [
    "#### 2.\tWrite a Python program to do arithmetical operations addition and division.?"
   ]
  },
  {
   "cell_type": "markdown",
   "id": "2c7ab55f",
   "metadata": {},
   "source": [
    "#### Answer:"
   ]
  },
  {
   "cell_type": "code",
   "execution_count": 11,
   "id": "faf24859",
   "metadata": {},
   "outputs": [
    {
     "name": "stdout",
     "output_type": "stream",
     "text": [
      "Enter first number : 5.5\n",
      "Enter second number : 6.5\n",
      "addition first and second number is 12.0\n",
      "division first and second number is 0.8461538461538461\n"
     ]
    }
   ],
   "source": [
    "num_1 = float(input(\"Enter first number : \"))\n",
    "num_2 = float(input(\"Enter second number : \"))\n",
    "\n",
    "add = num_1 + num_2\n",
    "div = num_1 / num_2\n",
    "\n",
    "print(\"Addition first and second number is {}\".format(add))\n",
    "print(\"Division first and second number is {}\".format(div))"
   ]
  },
  {
   "cell_type": "markdown",
   "id": "9b14754f",
   "metadata": {},
   "source": [
    "#### 3.\tWrite a Python program to find the area of a triangle?"
   ]
  },
  {
   "cell_type": "markdown",
   "id": "c50ac944",
   "metadata": {},
   "source": [
    "#### Answer:"
   ]
  },
  {
   "cell_type": "code",
   "execution_count": 12,
   "id": "fa69fabc",
   "metadata": {},
   "outputs": [
    {
     "name": "stdout",
     "output_type": "stream",
     "text": [
      "Enter base of a triangle : 5\n",
      "Enter height of a triangle : 10\n",
      "area of a triangle is 25.0\n"
     ]
    }
   ],
   "source": [
    "base = float(input(\"Enter base of a triangle : \"))\n",
    "height = float(input(\"Enter height of a triangle : \"))\n",
    "\n",
    "area = 0.5 * base  * height\n",
    "\n",
    "print(\"Area of a triangle is {}\".format(area))\n"
   ]
  },
  {
   "cell_type": "markdown",
   "id": "1404207c",
   "metadata": {},
   "source": [
    "#### 4.\tWrite a Python program to swap two variables?"
   ]
  },
  {
   "cell_type": "markdown",
   "id": "ee511d16",
   "metadata": {},
   "source": [
    "#### Answer:"
   ]
  },
  {
   "cell_type": "code",
   "execution_count": 15,
   "id": "93a6ce14",
   "metadata": {},
   "outputs": [
    {
     "name": "stdout",
     "output_type": "stream",
     "text": [
      "Enter value of 1st Variable : 5\n",
      "Enter value of 2nd Variable : 10\n",
      "The value of 1st Variable after swapping: 10\n",
      "The value of 2nd Variable after swapping: 5\n"
     ]
    }
   ],
   "source": [
    "x = input('Enter value of 1st Variable : ')\n",
    "y = input('Enter value of 2nd Variable : ')\n",
    "\n",
    "# create a temporary variable and swap the values\n",
    "temp = x\n",
    "x = y\n",
    "y = temp\n",
    "\n",
    "print('The value of 1st Variable after swapping: {}'.format(x))\n",
    "print('The value of 2nd Variable after swapping: {}'.format(y))\n",
    "\n"
   ]
  },
  {
   "cell_type": "markdown",
   "id": "daa46f26",
   "metadata": {},
   "source": [
    "#### 5.\tWrite a Python program to generate a random number?"
   ]
  },
  {
   "cell_type": "markdown",
   "id": "2b4e9584",
   "metadata": {},
   "source": [
    "#### Answer:"
   ]
  },
  {
   "cell_type": "code",
   "execution_count": 58,
   "id": "8290369a",
   "metadata": {},
   "outputs": [
    {
     "name": "stdout",
     "output_type": "stream",
     "text": [
      "0.7704006906866266\n"
     ]
    }
   ],
   "source": [
    "# Importing Random Module\n",
    "\n",
    "import random\n",
    "\n",
    "# Returning a random float number between 0 and 1\n",
    "n = random.random()\n",
    " \n",
    "print(n)"
   ]
  },
  {
   "cell_type": "code",
   "execution_count": 59,
   "id": "dce861df",
   "metadata": {},
   "outputs": [
    {
     "name": "stdout",
     "output_type": "stream",
     "text": [
      "24\n"
     ]
    }
   ],
   "source": [
    "# Importing Random Module\n",
    "\n",
    "import random\n",
    "\n",
    "# Returning a random number between the range 0 to 100\n",
    "n = random.randint(0,100)\n",
    "\n",
    "print(n)"
   ]
  },
  {
   "cell_type": "code",
   "execution_count": null,
   "id": "75614b42",
   "metadata": {},
   "outputs": [],
   "source": []
  }
 ],
 "metadata": {
  "kernelspec": {
   "display_name": "Python 3",
   "language": "python",
   "name": "python3"
  },
  "language_info": {
   "codemirror_mode": {
    "name": "ipython",
    "version": 3
   },
   "file_extension": ".py",
   "mimetype": "text/x-python",
   "name": "python",
   "nbconvert_exporter": "python",
   "pygments_lexer": "ipython3",
   "version": "3.8.8"
  }
 },
 "nbformat": 4,
 "nbformat_minor": 5
}
