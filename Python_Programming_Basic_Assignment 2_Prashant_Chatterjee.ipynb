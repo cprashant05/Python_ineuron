{
 "cells": [
  {
   "cell_type": "markdown",
   "id": "78e145db",
   "metadata": {},
   "source": [
    "#### 1.\tWrite a Python program to convert kilometers to miles?"
   ]
  },
  {
   "cell_type": "markdown",
   "id": "8327374d",
   "metadata": {},
   "source": [
    "#### Answer:"
   ]
  },
  {
   "cell_type": "code",
   "execution_count": 7,
   "id": "e946b4b2",
   "metadata": {},
   "outputs": [
    {
     "name": "stdout",
     "output_type": "stream",
     "text": [
      "Enter Distance in Kilometer : 50\n",
      "Converted Distance in Miles : 31.0\n"
     ]
    }
   ],
   "source": [
    "distance_kms = input(\"Enter Distance in Kilometer : \")\n",
    "\n",
    "distance_miles = int(distance_kms) * 0.62\n",
    "\n",
    "print(\"Converted Distance in Miles : {}\".format(distance_miles))"
   ]
  },
  {
   "cell_type": "markdown",
   "id": "59e0a2e1",
   "metadata": {},
   "source": [
    "#### 2. Write a Python program to convert Celsius to Fahrenheit?"
   ]
  },
  {
   "cell_type": "markdown",
   "id": "2c7ab55f",
   "metadata": {},
   "source": [
    "#### Answer:"
   ]
  },
  {
   "cell_type": "code",
   "execution_count": 10,
   "id": "faf24859",
   "metadata": {},
   "outputs": [
    {
     "name": "stdout",
     "output_type": "stream",
     "text": [
      "Enter Temperature in Celsius : 40\n",
      "Converted Distance in Fahrenheit : 104.0\n"
     ]
    }
   ],
   "source": [
    "temp_celsius = input(\"Enter Temperature in Celsius : \")\n",
    "\n",
    "temp_fahrenheit = (int(temp_celsius) * (9/5)) + 32\n",
    "\n",
    "print(\"Converted Distance in Fahrenheit : {}\".format(temp_fahrenheit))"
   ]
  },
  {
   "cell_type": "markdown",
   "id": "9b14754f",
   "metadata": {},
   "source": [
    "#### 3.\tWrite a Python program to display calendar?"
   ]
  },
  {
   "cell_type": "markdown",
   "id": "c50ac944",
   "metadata": {},
   "source": [
    "#### Answer:"
   ]
  },
  {
   "cell_type": "code",
   "execution_count": 31,
   "id": "fa69fabc",
   "metadata": {},
   "outputs": [
    {
     "name": "stdout",
     "output_type": "stream",
     "text": [
      "Enter year in YYYY : 2022\n",
      "Enter year in MM : 02\n",
      "\n",
      "   February 2022\n",
      "Mo Tu We Th Fr Sa Su\n",
      "    1  2  3  4  5  6\n",
      " 7  8  9 10 11 12 13\n",
      "14 15 16 17 18 19 20\n",
      "21 22 23 24 25 26 27\n",
      "28\n",
      "\n"
     ]
    }
   ],
   "source": [
    " # importing calendar module\n",
    "#\"Enter year in YYYY : \"\n",
    "#\"Enter year in MM : \"\n",
    "\n",
    "import calendar\n",
    " \n",
    "yy = int(input(\"Enter year in YYYY : \"))\n",
    "mm = int(input(\"Enter year in MM : \"))\n",
    " \n",
    "# display the calendar\n",
    "print()\n",
    "print(calendar.month(yy, mm))"
   ]
  },
  {
   "cell_type": "markdown",
   "id": "1404207c",
   "metadata": {},
   "source": [
    "#### 4. Write a Python program to solve quadratic equation?"
   ]
  },
  {
   "cell_type": "markdown",
   "id": "ee511d16",
   "metadata": {},
   "source": [
    "#### Answer:"
   ]
  },
  {
   "cell_type": "markdown",
   "id": "1ea9ab9b",
   "metadata": {},
   "source": [
    "The standard form of a quadratic equation is:\n",
    "\n",
    "##### ax**2 + bx + c = 0, where\n",
    "##### a, b and c are real numbers and\n",
    "##### a ≠ 0\n"
   ]
  },
  {
   "cell_type": "markdown",
   "id": "7f58aeff",
   "metadata": {},
   "source": [
    "The solutions of this quadratic equation is given by:\n",
    "\n",
    "##### (-b ± (b ** 2 - 4 * a * c) ** 0.5) / (2 * a)"
   ]
  },
  {
   "cell_type": "code",
   "execution_count": 40,
   "id": "93a6ce14",
   "metadata": {},
   "outputs": [
    {
     "name": "stdout",
     "output_type": "stream",
     "text": [
      "Enter value of a : 1\n",
      "Enter value of b : 6\n",
      "Enter value of c : 10\n",
      "Solutions are (-3-1j) and (-3+1j)\n"
     ]
    }
   ],
   "source": [
    "# import complex math module\n",
    "\n",
    "import cmath\n",
    "\n",
    "a = int(input(\"Enter value of a : \"))\n",
    "b = int(input(\"Enter value of b : \"))\n",
    "c = int(input(\"Enter value of c : \"))\n",
    "\n",
    "# calculating the discriminant\n",
    "\n",
    "d = (b**2) - (4*a*c)\n",
    "\n",
    "# Two solutions are:\n",
    "\n",
    "s_1 = (-b-cmath.sqrt(d))/(2*a)\n",
    "s_2 = (-b+cmath.sqrt(d))/(2*a)\n",
    "\n",
    "print('Solutions are {0} and {1}'.format(s_1,s_2))"
   ]
  },
  {
   "cell_type": "markdown",
   "id": "daa46f26",
   "metadata": {},
   "source": [
    "#### 5.\tWrite a Python program to swap two variables without temp variable?"
   ]
  },
  {
   "cell_type": "markdown",
   "id": "2b4e9584",
   "metadata": {},
   "source": [
    "#### Answer:"
   ]
  },
  {
   "cell_type": "code",
   "execution_count": 25,
   "id": "8290369a",
   "metadata": {},
   "outputs": [
    {
     "name": "stdout",
     "output_type": "stream",
     "text": [
      "enter first value x : 10\n",
      "enter second value y : 5\n",
      "Before swapping: \n",
      "Value of x :  10  and y :  5\n",
      "After swapping: \n",
      "Value of x :  5  and y :  10\n"
     ]
    }
   ],
   "source": [
    "x = input(\"enter first value x : \")\n",
    "y = input(\"enter second value y : \")\n",
    " \n",
    "print (\"Before swapping: \")\n",
    "print(\"Value of x : \", x, \" and y : \", y)\n",
    " \n",
    "x, y = y, x\n",
    " \n",
    "print (\"After swapping: \")\n",
    "print(\"Value of x : \", x, \" and y : \", y)"
   ]
  }
 ],
 "metadata": {
  "kernelspec": {
   "display_name": "Python 3",
   "language": "python",
   "name": "python3"
  },
  "language_info": {
   "codemirror_mode": {
    "name": "ipython",
    "version": 3
   },
   "file_extension": ".py",
   "mimetype": "text/x-python",
   "name": "python",
   "nbconvert_exporter": "python",
   "pygments_lexer": "ipython3",
   "version": "3.8.8"
  }
 },
 "nbformat": 4,
 "nbformat_minor": 5
}
