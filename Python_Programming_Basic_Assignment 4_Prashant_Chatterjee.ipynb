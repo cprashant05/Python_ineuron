{
 "cells": [
  {
   "cell_type": "markdown",
   "id": "78e145db",
   "metadata": {},
   "source": [
    "#### 1.\tWrite a Python Program to Find the Factorial of a Number?"
   ]
  },
  {
   "cell_type": "markdown",
   "id": "8327374d",
   "metadata": {},
   "source": [
    "#### Answer:"
   ]
  },
  {
   "cell_type": "code",
   "execution_count": null,
   "id": "e946b4b2",
   "metadata": {},
   "outputs": [],
   "source": [
    "# First Method using Math Function:\n",
    "\n",
    "import math\n",
    "\n",
    "fact = int(input(\"Enter the number to find the factorial : \"))\n",
    "\n",
    "math.factorial(fact)"
   ]
  },
  {
   "cell_type": "code",
   "execution_count": null,
   "id": "d82af9d8",
   "metadata": {},
   "outputs": [],
   "source": [
    "# Second Method using function and for loop:\n",
    "\n",
    "def factorial(f):\n",
    "    a = 1\n",
    "    for i in range(f,0,-1):\n",
    "        a = a * i\n",
    "    return(a)\n",
    "\n",
    "x = int(input(\"Enter the number to find the factorial : \"))\n",
    "\n",
    "factorial(x)"
   ]
  },
  {
   "cell_type": "markdown",
   "id": "59e0a2e1",
   "metadata": {},
   "source": [
    "#### 2.\tWrite a Python Program to Display the multiplication Table?"
   ]
  },
  {
   "cell_type": "markdown",
   "id": "2c7ab55f",
   "metadata": {},
   "source": [
    "#### Answer:"
   ]
  },
  {
   "cell_type": "code",
   "execution_count": 5,
   "id": "1f73265a",
   "metadata": {},
   "outputs": [
    {
     "name": "stdout",
     "output_type": "stream",
     "text": [
      "Enter the Number to get the multiplication table : 5\n",
      "5 x 1 = 5\n",
      "5 x 2 = 10\n",
      "5 x 3 = 15\n",
      "5 x 4 = 20\n",
      "5 x 5 = 25\n",
      "5 x 6 = 30\n",
      "5 x 7 = 35\n",
      "5 x 8 = 40\n",
      "5 x 9 = 45\n",
      "5 x 10 = 50\n"
     ]
    }
   ],
   "source": [
    "table = int(input(\"Enter the Number to get the multiplication table : \"))\n",
    "\n",
    "for i in range(1,11):\n",
    "    product =table * i\n",
    "    print( \"{0} x {1} = {2}\".format(table,i,product))"
   ]
  },
  {
   "cell_type": "markdown",
   "id": "9b14754f",
   "metadata": {},
   "source": [
    "#### 3.\tWrite a Python Program to Print the Fibonacci sequence?"
   ]
  },
  {
   "cell_type": "markdown",
   "id": "c50ac944",
   "metadata": {},
   "source": [
    "#### Answer:"
   ]
  },
  {
   "cell_type": "code",
   "execution_count": 43,
   "id": "fa69fabc",
   "metadata": {},
   "outputs": [
    {
     "name": "stdout",
     "output_type": "stream",
     "text": [
      "Enter the position upto which Fibonacci sequence needs to be printed : 5\n",
      "\n",
      "0\n",
      "1\n",
      "1\n",
      "2\n",
      "3\n"
     ]
    }
   ],
   "source": [
    "\n",
    "def fibonnaci(n):\n",
    "    first = 0\n",
    "    second = 1\n",
    "    if n<=0:\n",
    "        print(\"Please enter a positive integer number greater than zero \")\n",
    "    else:\n",
    "        for i in range(n):\n",
    "            print(first)\n",
    "            first , second = second , first+second\n",
    "\n",
    "n = int(input(\"Enter the position upto which Fibonacci sequence needs to be printed : \"))\n",
    "print()\n",
    "fibonnaci(n)\n",
    " "
   ]
  },
  {
   "cell_type": "markdown",
   "id": "1404207c",
   "metadata": {},
   "source": [
    "#### 4.\tWrite a Python Program to Check Armstrong Number?"
   ]
  },
  {
   "cell_type": "markdown",
   "id": "ee511d16",
   "metadata": {},
   "source": [
    "#### Answer:"
   ]
  },
  {
   "cell_type": "code",
   "execution_count": 80,
   "id": "93a6ce14",
   "metadata": {},
   "outputs": [
    {
     "name": "stdout",
     "output_type": "stream",
     "text": [
      "Enter a number to check if it is an armstrong number or not : \n",
      "153\n"
     ]
    },
    {
     "data": {
      "text/plain": [
       "'It is an Armstrong Number'"
      ]
     },
     "execution_count": 80,
     "metadata": {},
     "output_type": "execute_result"
    }
   ],
   "source": [
    "def armstrong(n):\n",
    "    lst = []\n",
    "    sp = str(n)\n",
    "    for i in sp:\n",
    "        lst.append(i)\n",
    "    \n",
    "    num_a = 0\n",
    "\n",
    "    for i in lst:\n",
    "        c = (int(i))**3\n",
    "        num_a = num_a + c\n",
    "\n",
    "\n",
    "    if num_a == n:\n",
    "        return(\"It is an Armstrong Number\")\n",
    "    else:\n",
    "        return(\"It is not an Armstrong Number\")\n",
    "\n",
    "    \n",
    "n = int(input(\"Enter a number to check if it is an armstrong number or not : \\n\"))\n",
    "armstrong(n)"
   ]
  },
  {
   "cell_type": "markdown",
   "id": "daa46f26",
   "metadata": {},
   "source": [
    "#### 5.\tWrite a Python Program to Find Armstrong Number in an Interval?"
   ]
  },
  {
   "cell_type": "markdown",
   "id": "2b4e9584",
   "metadata": {},
   "source": [
    "#### Answer:"
   ]
  },
  {
   "cell_type": "code",
   "execution_count": 87,
   "id": "568fda20",
   "metadata": {},
   "outputs": [
    {
     "name": "stdout",
     "output_type": "stream",
     "text": [
      "Enter starting number of the interval : 0\n",
      "Enter end number of the interval : 1000\n",
      "\n",
      "Armstrong number between 0 and 1000 are : \n",
      "\n",
      "0\n",
      "1\n",
      "153\n",
      "370\n",
      "371\n",
      "407\n"
     ]
    }
   ],
   "source": [
    "def arms(nu):\n",
    "    l = []\n",
    "    sa = str(nu)\n",
    "    \n",
    "    for i in sa:\n",
    "        l.append(i)\n",
    "    \n",
    "    num_ar = 0\n",
    "\n",
    "    for i in l:\n",
    "        ca = (int(i))**3\n",
    "        num_ar = num_ar + ca\n",
    "\n",
    "\n",
    "    if num_ar == nu:\n",
    "        return(True)\n",
    "    else:\n",
    "        return(False)\n",
    "\n",
    "    \n",
    "start = int(input(\"Enter starting number of the interval : \"))\n",
    "end = int(input(\"Enter end number of the interval : \"))\n",
    "print()\n",
    "print(\"Armstrong number between {0} and {1} are : \".format(start,end))\n",
    "print()\n",
    "\n",
    "for i in range(start, end+1):\n",
    "    if arms(i) == True:\n",
    "        print(i)"
   ]
  },
  {
   "cell_type": "markdown",
   "id": "858bb967",
   "metadata": {},
   "source": [
    "#### 6.\tWrite a Python Program to Find the Sum of Natural Numbers?"
   ]
  },
  {
   "cell_type": "markdown",
   "id": "8590acd4",
   "metadata": {},
   "source": [
    "#### Answer:"
   ]
  },
  {
   "cell_type": "code",
   "execution_count": 92,
   "id": "61058417",
   "metadata": {},
   "outputs": [
    {
     "name": "stdout",
     "output_type": "stream",
     "text": [
      "Enter the number upto which sum of natural number is to be found : 12\n",
      "\n",
      "The sum is 78\n"
     ]
    }
   ],
   "source": [
    "num = int(input(\"Enter the number upto which sum of natural number is to be found : \"))\n",
    "\n",
    "if num < 0:\n",
    "    print(\"Enter a positive number\")\n",
    "else:\n",
    "    sum = 0\n",
    "    while(num > 0):\n",
    "        sum += num\n",
    "        num -= 1\n",
    "    print()\n",
    "    print(\"The sum is\", sum)"
   ]
  },
  {
   "cell_type": "code",
   "execution_count": null,
   "id": "bfd51359",
   "metadata": {},
   "outputs": [],
   "source": []
  }
 ],
 "metadata": {
  "kernelspec": {
   "display_name": "Python 3",
   "language": "python",
   "name": "python3"
  },
  "language_info": {
   "codemirror_mode": {
    "name": "ipython",
    "version": 3
   },
   "file_extension": ".py",
   "mimetype": "text/x-python",
   "name": "python",
   "nbconvert_exporter": "python",
   "pygments_lexer": "ipython3",
   "version": "3.8.8"
  }
 },
 "nbformat": 4,
 "nbformat_minor": 5
}
