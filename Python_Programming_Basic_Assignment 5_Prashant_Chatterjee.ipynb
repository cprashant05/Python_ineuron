{
 "cells": [
  {
   "cell_type": "markdown",
   "id": "78e145db",
   "metadata": {},
   "source": [
    "#### 1.\tWrite a Python Program to Find LCM?"
   ]
  },
  {
   "cell_type": "markdown",
   "id": "8327374d",
   "metadata": {},
   "source": [
    "#### Answer:"
   ]
  },
  {
   "cell_type": "code",
   "execution_count": 15,
   "id": "e946b4b2",
   "metadata": {},
   "outputs": [
    {
     "name": "stdout",
     "output_type": "stream",
     "text": [
      "Enter first number to find LCM : 24\n",
      "Enter second number to find LCM : 64\n",
      "The LCM of 24 and 64 is : 192.0\n"
     ]
    }
   ],
   "source": [
    "import math\n",
    "\n",
    "num1 = int(input(\"Enter first number to find LCM : \"))\n",
    "num2 = int(input(\"Enter second number to find LCM : \"))\n",
    "\n",
    "gcd = math.gcd(num1,num2)\n",
    "lcm = (num1*num2)/(gcd)\n",
    "\n",
    "print (\"The LCM of {0} and {1} is : {2}\".format(num1,num2,lcm))\n"
   ]
  },
  {
   "cell_type": "markdown",
   "id": "59e0a2e1",
   "metadata": {},
   "source": [
    "#### 2.\tWrite a Python Program to Find HCF?"
   ]
  },
  {
   "cell_type": "markdown",
   "id": "2c7ab55f",
   "metadata": {},
   "source": [
    "#### Answer:"
   ]
  },
  {
   "cell_type": "code",
   "execution_count": 13,
   "id": "1f73265a",
   "metadata": {},
   "outputs": [
    {
     "name": "stdout",
     "output_type": "stream",
     "text": [
      "Enter first number to find HCF : 21\n",
      "Enter second number to find HCF : 28\n",
      "The HCF of 21 and 28 is : 7\n"
     ]
    }
   ],
   "source": [
    "# Method 1:\n",
    "\n",
    "def HCF(x, y):\n",
    "    if x > y:\n",
    "        small = y\n",
    "    else:\n",
    "        small = x\n",
    "    for i in range(1, small+1):\n",
    "        if((x % i == 0) and (y % i == 0)):\n",
    "            hcf = i\n",
    "              \n",
    "    return hcf\n",
    "  \n",
    "x = int(input(\"Enter first number to find HCF : \"))\n",
    "y = int(input(\"Enter second number to find HCF : \"))\n",
    "\n",
    "hcf = HCF(x,y)\n",
    "print (\"The HCF of {0} and {1} is : {2}\".format(x,y,hcf))"
   ]
  },
  {
   "cell_type": "code",
   "execution_count": 14,
   "id": "d801bf4d",
   "metadata": {},
   "outputs": [
    {
     "name": "stdout",
     "output_type": "stream",
     "text": [
      "Enter first number to find HCF : 21\n",
      "Enter second number to find HCF : 28\n",
      "The HCF of 21 and 28 is : 7\n"
     ]
    }
   ],
   "source": [
    "# Method 2:\n",
    "\n",
    "import math\n",
    "a = int(input(\"Enter first number to find HCF : \"))\n",
    "b = int(input(\"Enter second number to find HCF : \"))\n",
    "\n",
    "HCF = math.gcd(a,b)\n",
    "print (\"The HCF of {0} and {1} is : {2}\".format(a,b,HCF))"
   ]
  },
  {
   "cell_type": "markdown",
   "id": "9b14754f",
   "metadata": {},
   "source": [
    "#### 3.\tWrite a Python Program to Convert Decimal to Binary, Octal and Hexadecimal?"
   ]
  },
  {
   "cell_type": "markdown",
   "id": "c50ac944",
   "metadata": {},
   "source": [
    "#### Answer:"
   ]
  },
  {
   "cell_type": "code",
   "execution_count": 8,
   "id": "e8d89d94",
   "metadata": {},
   "outputs": [
    {
     "name": "stdout",
     "output_type": "stream",
     "text": [
      "Enter the number to convert decimal to Binary, Octal and Hexadecimal : 27\n",
      "The decimal value of 27 is : \n",
      "0b11011 in binary.\n",
      "0o33 in octal.\n",
      "0x1b in hexadecimal.\n"
     ]
    }
   ],
   "source": [
    "# Python program to convert decimal into other number systems\n",
    "dec = int(input(\"Enter the number to convert decimal to Binary, Octal and Hexadecimal : \"))\n",
    "\n",
    "# print(\"The decimal value of\", dec, \"is:\")\n",
    "print(\"The decimal value of {0} is : \".format(dec))\n",
    "print(bin(dec), \"in binary.\")\n",
    "print(oct(dec), \"in octal.\")\n",
    "print(hex(dec), \"in hexadecimal.\")"
   ]
  },
  {
   "cell_type": "markdown",
   "id": "1404207c",
   "metadata": {},
   "source": [
    "#### 4.\tWrite a Python Program To Find ASCII value of a character?"
   ]
  },
  {
   "cell_type": "markdown",
   "id": "ee511d16",
   "metadata": {},
   "source": [
    "#### Answer:"
   ]
  },
  {
   "cell_type": "code",
   "execution_count": 11,
   "id": "93a6ce14",
   "metadata": {},
   "outputs": [
    {
     "name": "stdout",
     "output_type": "stream",
     "text": [
      "Enter the character to find the ASCII Value : a\n",
      "The ASCII value of a is  97\n"
     ]
    }
   ],
   "source": [
    "ch = str(input(\"Enter the character to find the ASCII Value : \"))\n",
    "print(\"The ASCII value of {} is \".format(ch), ord(ch))"
   ]
  },
  {
   "cell_type": "markdown",
   "id": "daa46f26",
   "metadata": {},
   "source": [
    "#### 5.\tWrite a Python Program to Make a Simple Calculator with 4 basic mathematical operations?"
   ]
  },
  {
   "cell_type": "markdown",
   "id": "2b4e9584",
   "metadata": {},
   "source": [
    "#### Answer:"
   ]
  },
  {
   "cell_type": "code",
   "execution_count": 9,
   "id": "568fda20",
   "metadata": {},
   "outputs": [
    {
     "name": "stdout",
     "output_type": "stream",
     "text": [
      "Select operation : \n",
      "1.Add\n",
      "2.Subtract\n",
      "3.Multiply\n",
      "4.Divide\n",
      "\n",
      "Enter choice (1/2/3/4): 1\n",
      "Enter first number: 5\n",
      "Enter second number: 3\n",
      "\n",
      "5.0 + 3.0 = 8.0\n"
     ]
    }
   ],
   "source": [
    "# This function adds two numbers\n",
    "def add(x, y):\n",
    "    return x + y\n",
    "\n",
    "# This function subtracts two numbers\n",
    "def subtract(x, y):\n",
    "    return x - y\n",
    "\n",
    "# This function multiplies two numbers\n",
    "def multiply(x, y):\n",
    "    return x * y\n",
    "\n",
    "# This function divides two numbers\n",
    "def divide(x, y):\n",
    "    return x / y\n",
    "\n",
    "\n",
    "print(\"Select operation : \")\n",
    "print(\"1.Add\")\n",
    "print(\"2.Subtract\")\n",
    "print(\"3.Multiply\")\n",
    "print(\"4.Divide\")\n",
    "\n",
    "print()\n",
    "option = input(\"Enter choice (1/2/3/4): \")\n",
    "\n",
    "if option in ('1', '2', '3', '4'):\n",
    "    num_1 = float(input(\"Enter first number: \"))\n",
    "    num_2 = float(input(\"Enter second number: \"))\n",
    "    print()\n",
    "\n",
    "    if option == '1':\n",
    "        print(num_1, \"+\", num_2, \"=\", add(num_1, num_2))\n",
    "\n",
    "    elif option == '2':\n",
    "        print(num_1, \"-\", num_2, \"=\", subtract(num_1, num_2))\n",
    "\n",
    "    elif option == '3':\n",
    "        print(num_1, \"*\", num_2, \"=\", multiply(num_1, num_2))\n",
    "\n",
    "    elif option == '4':\n",
    "        print(num_1, \"/\", num_2, \"=\", divide(num_1, num_2))\n",
    "        \n",
    "else:\n",
    "    print(\"Invalid Input\")"
   ]
  },
  {
   "cell_type": "code",
   "execution_count": null,
   "id": "94f9094d",
   "metadata": {},
   "outputs": [],
   "source": []
  }
 ],
 "metadata": {
  "kernelspec": {
   "display_name": "Python 3",
   "language": "python",
   "name": "python3"
  },
  "language_info": {
   "codemirror_mode": {
    "name": "ipython",
    "version": 3
   },
   "file_extension": ".py",
   "mimetype": "text/x-python",
   "name": "python",
   "nbconvert_exporter": "python",
   "pygments_lexer": "ipython3",
   "version": "3.8.8"
  }
 },
 "nbformat": 4,
 "nbformat_minor": 5
}
