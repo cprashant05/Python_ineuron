{
 "cells": [
  {
   "cell_type": "markdown",
   "id": "1f597e39",
   "metadata": {},
   "source": [
    "#### 1.\tWrite a Python Program to Display Fibonacci Sequence Using Recursion?"
   ]
  },
  {
   "cell_type": "markdown",
   "id": "8327374d",
   "metadata": {},
   "source": [
    "#### Answer:"
   ]
  },
  {
   "cell_type": "code",
   "execution_count": 17,
   "id": "e946b4b2",
   "metadata": {},
   "outputs": [
    {
     "name": "stdout",
     "output_type": "stream",
     "text": [
      "Enter the nth position value upto which fibonacci sequence needs to be printed : 5\n",
      "Fibonacci sequence:\n",
      "0\n",
      "1\n",
      "1\n",
      "2\n",
      "3\n"
     ]
    }
   ],
   "source": [
    "def recur_fibo(n):\n",
    "    if n <= 1:\n",
    "        return n\n",
    "    else:\n",
    "        return(recur_fibo(n-1) + recur_fibo(n-2))\n",
    "\n",
    "nterms = int(input(\"Enter the nth position value upto which fibonacci sequence needs to be printed : \"))\n",
    "\n",
    "if nterms <= 0:\n",
    "    print(\"Plese enter a positive integer\")\n",
    "else:\n",
    "    print(\"Fibonacci sequence:\")\n",
    "    for i in range(nterms):\n",
    "        print(recur_fibo(i))"
   ]
  },
  {
   "cell_type": "markdown",
   "id": "59e0a2e1",
   "metadata": {},
   "source": [
    "#### 2.\tWrite a Python Program to Find Factorial of Number Using Recursion?"
   ]
  },
  {
   "cell_type": "markdown",
   "id": "2c7ab55f",
   "metadata": {},
   "source": [
    "#### Answer:"
   ]
  },
  {
   "cell_type": "code",
   "execution_count": 18,
   "id": "1f73265a",
   "metadata": {},
   "outputs": [
    {
     "name": "stdout",
     "output_type": "stream",
     "text": [
      "Enter the number to find the factorial : 5\n",
      "The factorial of 5 is 120\n"
     ]
    }
   ],
   "source": [
    "def recur_factorial(n):\n",
    "    if n == 1:\n",
    "        return n\n",
    "    else:\n",
    "        return n*recur_factorial(n-1)\n",
    "\n",
    "num_fact = int((input(\"Enter the number to find the factorial : \")))\n",
    "\n",
    "# check if the number is negative\n",
    "if num_fact < 0:\n",
    "    print(\"Sorry, factorial does not exist for negative numbers\")\n",
    "elif num_fact == 0:\n",
    "    print(\"The factorial of 0 is 1\")\n",
    "else:\n",
    "    print(\"The factorial of\", num_fact, \"is\", recur_factorial(num_fact))"
   ]
  },
  {
   "cell_type": "markdown",
   "id": "9b14754f",
   "metadata": {},
   "source": [
    "#### 3.\tWrite a Python Program to calculate your Body Mass Index?"
   ]
  },
  {
   "cell_type": "markdown",
   "id": "c50ac944",
   "metadata": {},
   "source": [
    "#### Answer:"
   ]
  },
  {
   "cell_type": "code",
   "execution_count": 6,
   "id": "e8d89d94",
   "metadata": {},
   "outputs": [
    {
     "name": "stdout",
     "output_type": "stream",
     "text": [
      "Enter your height in cms : 167.64\n",
      "Enter your weight in kgs : 65\n",
      "Your Body Mass Index is 23.13\n",
      "Your Body Mass Index is 23.13 and you are in Normal Weight category\n"
     ]
    }
   ],
   "source": [
    "height = float(input(\"Enter your height in cms : \"))\n",
    "weight = float(input(\"Enter your weight in kgs : \"))\n",
    "\n",
    "height_metersquare = (height/100)**2\n",
    "\n",
    "BMI = round((weight / (height_metersquare)),2)\n",
    "\n",
    "print(\"Your Body Mass Index is {0}\".format(BMI))\n",
    "\n",
    "if BMI<18.5:\n",
    "    print(\"Your Body Mass Index is {0} and you are in Underweight category\".format(BMI))\n",
    "elif 18.5<=BMI<=24:\n",
    "    print(\"Your Body Mass Index is {0} and you are in Normal Weight category\".format(BMI))\n",
    "elif 24.1<=BMI<=29.9:\n",
    "    print(\"Your Body Mass Index is {0} and you are in Over Weight category\".format(BMI))\n",
    "else:\n",
    "    print(\"Your Body Mass Index is {0} and you are in Obese category\".format(BMI))\n",
    "    "
   ]
  },
  {
   "cell_type": "markdown",
   "id": "1404207c",
   "metadata": {},
   "source": [
    "\n",
    "#### 4.\tWrite a Python Program to calculate the natural logarithm of any number?"
   ]
  },
  {
   "cell_type": "markdown",
   "id": "ee511d16",
   "metadata": {},
   "source": [
    "#### Answer:"
   ]
  },
  {
   "cell_type": "code",
   "execution_count": 15,
   "id": "93a6ce14",
   "metadata": {},
   "outputs": [
    {
     "name": "stdout",
     "output_type": "stream",
     "text": [
      "Enter any number to get natural logarithm : 10\n",
      "Natural logarithm of 10.0 is : 2.3\n"
     ]
    }
   ],
   "source": [
    "import math\n",
    "\n",
    "num_log = float(input(\"Enter any number to get natural logarithm : \"))\n",
    "log_val = round((math.log(num_log)),2)\n",
    "print (\"Natural logarithm of {0} is : {1}\".format(num_log,log_val))"
   ]
  },
  {
   "cell_type": "markdown",
   "id": "daa46f26",
   "metadata": {},
   "source": [
    "#### 5.\tWrite a Python Program for cube sum of first n natural numbers?"
   ]
  },
  {
   "cell_type": "markdown",
   "id": "2b4e9584",
   "metadata": {},
   "source": [
    "#### Answer:"
   ]
  },
  {
   "cell_type": "code",
   "execution_count": 11,
   "id": "568fda20",
   "metadata": {},
   "outputs": [
    {
     "name": "stdout",
     "output_type": "stream",
     "text": [
      "Enter the nth position of natural number to get cube of sum of first n natural numbers : 3\n",
      "The cube of sum of first 3 natural numbers is 216\n"
     ]
    }
   ],
   "source": [
    "nat = int(input(\"Enter the nth position of natural number to get cube of sum of first n natural numbers : \"))\n",
    "a_1 = 0 \n",
    "\n",
    "for i in range(1,nat+1):\n",
    "    a_1 = a_1 + i\n",
    "\n",
    "print(\"The cube of sum of first {0} natural numbers is {1}\".format(nat,a_1**3))"
   ]
  },
  {
   "cell_type": "code",
   "execution_count": null,
   "id": "cc67468a",
   "metadata": {},
   "outputs": [],
   "source": []
  }
 ],
 "metadata": {
  "kernelspec": {
   "display_name": "Python 3",
   "language": "python",
   "name": "python3"
  },
  "language_info": {
   "codemirror_mode": {
    "name": "ipython",
    "version": 3
   },
   "file_extension": ".py",
   "mimetype": "text/x-python",
   "name": "python",
   "nbconvert_exporter": "python",
   "pygments_lexer": "ipython3",
   "version": "3.8.8"
  }
 },
 "nbformat": 4,
 "nbformat_minor": 5
}
