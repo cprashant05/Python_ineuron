{
 "cells": [
  {
   "cell_type": "markdown",
   "id": "1f597e39",
   "metadata": {},
   "source": [
    "#### 1.\tWrite a Python Program to find sum of array?"
   ]
  },
  {
   "cell_type": "markdown",
   "id": "8327374d",
   "metadata": {},
   "source": [
    "#### Answer:"
   ]
  },
  {
   "cell_type": "code",
   "execution_count": 30,
   "id": "e946b4b2",
   "metadata": {},
   "outputs": [
    {
     "name": "stdout",
     "output_type": "stream",
     "text": [
      "Enter the elements of array separated by comma: 2,4,6,8,10\n",
      "\n",
      "Your array is  [2, 4, 6, 8, 10]\n",
      "\n",
      "Sum of array is  30\n"
     ]
    }
   ],
   "source": [
    "# Python Program to find sum of array\n",
    "\n",
    "input_string = input(\"Enter the elements of array separated by comma: \")\n",
    "\n",
    "arr1  = input_string.split(\",\")\n",
    "arr = []\n",
    "\n",
    "for i in arr1:\n",
    "    arr.append(int(i))\n",
    "    \n",
    "sum_total = 0\n",
    "\n",
    "for num in arr:\n",
    "    sum_total += int(num)\n",
    "print()\n",
    "print(\"Your array is \",arr)\n",
    "print()\n",
    "print(\"Sum of array is \",sum_total)"
   ]
  },
  {
   "cell_type": "markdown",
   "id": "59e0a2e1",
   "metadata": {},
   "source": [
    "#### 2.\tWrite a Python Program to find largest element in an array?"
   ]
  },
  {
   "cell_type": "markdown",
   "id": "2c7ab55f",
   "metadata": {},
   "source": [
    "#### Answer:"
   ]
  },
  {
   "cell_type": "code",
   "execution_count": 31,
   "id": "1f73265a",
   "metadata": {},
   "outputs": [
    {
     "name": "stdout",
     "output_type": "stream",
     "text": [
      "Enter the elements of array separated by comma: 2,4,6,8,10\n",
      "\n",
      "Your array is  [2, 4, 6, 8, 10]\n",
      "\n",
      "Largest element in the array is  10\n"
     ]
    }
   ],
   "source": [
    "# Python Program to find largest element in an array\n",
    "\n",
    "input_string = input(\"Enter the elements of array separated by comma: \")\n",
    "\n",
    "arr1  = input_string.split(\",\")\n",
    "arr = []\n",
    "\n",
    "for i in arr1:\n",
    "    arr.append(int(i))\n",
    "    \n",
    "max_element = int(arr[0])\n",
    "\n",
    "for i in range(len(arr)):\n",
    "  if int(arr[i]) > int(max_element):\n",
    "     max_element = arr[i]\n",
    "print()\n",
    "print(\"Your array is \",arr)\n",
    "print()\n",
    "print (\"Largest element in the array is \",max_element)"
   ]
  },
  {
   "cell_type": "markdown",
   "id": "9b14754f",
   "metadata": {},
   "source": [
    "#### 3.\tWrite a Python Program for array rotation?"
   ]
  },
  {
   "cell_type": "markdown",
   "id": "c50ac944",
   "metadata": {},
   "source": [
    "#### Answer:"
   ]
  },
  {
   "cell_type": "code",
   "execution_count": 32,
   "id": "e8d89d94",
   "metadata": {},
   "outputs": [
    {
     "name": "stdout",
     "output_type": "stream",
     "text": [
      "Enter the elements of array separated by comma: 1,2,3,4,5\n",
      "Enter number of times you want to rotate the array  2\n",
      "\n",
      "Your array is  [1, 2, 3, 4, 5]\n",
      "\n",
      "Rotated Array is  [3, 4, 5, 1, 2]\n"
     ]
    }
   ],
   "source": [
    "# Python Program for array rotation\n",
    "\n",
    "def array_rotate(a,d):\n",
    "    n=len(a)\n",
    "    a[:]=a[d:n]+a[0:d]\n",
    "    return a\n",
    "\n",
    "input_string = input(\"Enter the elements of array separated by comma: \")\n",
    "\n",
    "arr1  = input_string.split(\",\")\n",
    "arr = []\n",
    "\n",
    "for i in arr1:\n",
    "    arr.append(int(i))\n",
    "    \n",
    "rot = int(input(\"Enter number of times you want to rotate the array  \"))\n",
    "\n",
    "print()\n",
    "print(\"Your array is \",arr)\n",
    "print()\n",
    "print(\"Rotated Array is \",array_rotate(arr,rot))\n",
    "    "
   ]
  },
  {
   "cell_type": "markdown",
   "id": "1404207c",
   "metadata": {},
   "source": [
    "\n",
    "#### 4.\tWrite a Python Program to Split the array and add the first part to the end?"
   ]
  },
  {
   "cell_type": "markdown",
   "id": "ee511d16",
   "metadata": {},
   "source": [
    "#### Answer:"
   ]
  },
  {
   "cell_type": "code",
   "execution_count": 36,
   "id": "93a6ce14",
   "metadata": {},
   "outputs": [
    {
     "name": "stdout",
     "output_type": "stream",
     "text": [
      "Enter the elements of array separated by comma: 1,2,3,4,5\n",
      "Enter the index position from where you want to split : 2\n",
      "\n",
      "Your inputed array is  [1, 2, 3, 4, 5]\n",
      "\n",
      "New Array is  [3, 4, 5, 1, 2]\n"
     ]
    }
   ],
   "source": [
    "# Python Program to Split the array and add the first part to the end\n",
    "\n",
    "def split_array(a,k): \n",
    "   b = a[:k]\n",
    "   return (a[k::]+b[::])\n",
    "\n",
    "input_string = input(\"Enter the elements of array separated by comma: \")\n",
    "arr1  = input_string.split(\",\")\n",
    "arr = []\n",
    "\n",
    "for i in arr1:\n",
    "    arr.append(int(i))\n",
    "    \n",
    "position = int(input(\"Enter the index position from where you want to split : \"))\n",
    "print()\n",
    "print(\"Your inputed array is \",arr)\n",
    "print()\n",
    "print(\"New Array is \",split_array(arr,position))\n"
   ]
  },
  {
   "cell_type": "markdown",
   "id": "daa46f26",
   "metadata": {},
   "source": [
    "#### 5.\tWrite a Python Program to check if given array is Monotonic?"
   ]
  },
  {
   "cell_type": "markdown",
   "id": "2b4e9584",
   "metadata": {},
   "source": [
    "#### Answer:"
   ]
  },
  {
   "cell_type": "code",
   "execution_count": 43,
   "id": "568fda20",
   "metadata": {},
   "outputs": [
    {
     "name": "stdout",
     "output_type": "stream",
     "text": [
      "Enter the elements of array separated by comma to check if the given array is Monotonic or not : 6,5,4,4\n",
      "\n",
      "Your inputed array is  [6, 5, 4, 4]\n",
      "\n",
      "The entered array is monotonic\n"
     ]
    }
   ],
   "source": [
    "# Python Program to check if given array is Monotonic\n",
    "\n",
    "def monotonic(arr):\n",
    "    n = len(arr)\n",
    "    increase = True\n",
    "    decrease = True\n",
    "     \n",
    "    # Loop to check if array is increasing\n",
    "    for i in range(0, n-1):\n",
    "        if arr[i] > arr[i+1]:\n",
    "            increase = False\n",
    " \n",
    "    # Loop to check if array is decreasing\n",
    "    for i in range(0, n-1): \n",
    "        if arr[i] < arr[i+1]:\n",
    "            decrease = False\n",
    "            \n",
    "    return increase or decrease\n",
    "\n",
    "input_string = input(\"Enter the elements of array separated by comma to check if the given array is Monotonic or not : \")\n",
    "\n",
    "arr1  = input_string.split(\",\")\n",
    "arr = []\n",
    "\n",
    "for i in arr1:\n",
    "    arr.append(int(i))\n",
    "print()\n",
    "print(\"Your inputed array is \",arr)\n",
    "print()\n",
    "if monotonic(arr) == True:\n",
    "    print(\"The entered array is monotonic\")\n",
    "else:\n",
    "    print(\"The entered array is not monotonic\")"
   ]
  },
  {
   "cell_type": "code",
   "execution_count": null,
   "id": "cc67468a",
   "metadata": {},
   "outputs": [],
   "source": []
  }
 ],
 "metadata": {
  "kernelspec": {
   "display_name": "Python 3",
   "language": "python",
   "name": "python3"
  },
  "language_info": {
   "codemirror_mode": {
    "name": "ipython",
    "version": 3
   },
   "file_extension": ".py",
   "mimetype": "text/x-python",
   "name": "python",
   "nbconvert_exporter": "python",
   "pygments_lexer": "ipython3",
   "version": "3.8.8"
  }
 },
 "nbformat": 4,
 "nbformat_minor": 5
}
