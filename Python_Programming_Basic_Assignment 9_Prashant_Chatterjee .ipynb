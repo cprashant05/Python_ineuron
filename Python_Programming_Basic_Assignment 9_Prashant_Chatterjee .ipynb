{
 "cells": [
  {
   "cell_type": "markdown",
   "id": "1f597e39",
   "metadata": {},
   "source": [
    "#### 1.\tWrite a Python program to check if the given number is a Disarium Number?"
   ]
  },
  {
   "cell_type": "markdown",
   "id": "8327374d",
   "metadata": {},
   "source": [
    "#### Answer:"
   ]
  },
  {
   "cell_type": "code",
   "execution_count": 37,
   "id": "e946b4b2",
   "metadata": {},
   "outputs": [],
   "source": [
    "def disarium(n):\n",
    "    s = 0\n",
    "    n = str(n)\n",
    "    for a in n:\n",
    "        b = int(a)**((int(n.index(a)))+1)\n",
    "        s = s + b\n",
    "    n = int(n)\n",
    "    if (n == s):\n",
    "        return \"The number is Disarium Number\"\n",
    "    else:\n",
    "        return \"The number is not Disarium Number\"\n",
    "    "
   ]
  },
  {
   "cell_type": "code",
   "execution_count": 38,
   "id": "7952b9f3",
   "metadata": {},
   "outputs": [
    {
     "name": "stdout",
     "output_type": "stream",
     "text": [
      "Enter a Number to Check that the number is a Disarium Number or not : 175\n"
     ]
    },
    {
     "data": {
      "text/plain": [
       "'The number is Disarium Number'"
      ]
     },
     "execution_count": 38,
     "metadata": {},
     "output_type": "execute_result"
    }
   ],
   "source": [
    "number = int(input(\"Enter a Number to Check that the number is a Disarium Number or not : \"))\n",
    "disarium(number)"
   ]
  },
  {
   "cell_type": "markdown",
   "id": "59e0a2e1",
   "metadata": {},
   "source": [
    "#### 2.\tWrite a Python program to print all disarium numbers between 1 to 100?"
   ]
  },
  {
   "cell_type": "markdown",
   "id": "2c7ab55f",
   "metadata": {},
   "source": [
    "#### Answer:"
   ]
  },
  {
   "cell_type": "code",
   "execution_count": 40,
   "id": "1f73265a",
   "metadata": {},
   "outputs": [
    {
     "name": "stdout",
     "output_type": "stream",
     "text": [
      "Disarium Number between 1 and 100 are :  [1, 2, 3, 4, 5, 6, 7, 8, 9, 89]\n"
     ]
    }
   ],
   "source": [
    "def disarium_check(n):\n",
    "    s = 0\n",
    "    n = str(n)\n",
    "    for a in n:\n",
    "        b = int(a)**((int(n.index(a)))+1)\n",
    "        s = s + b\n",
    "    n = int(n)\n",
    "    if (n == s):\n",
    "        return True\n",
    "    else:\n",
    "        return False\n",
    "\n",
    "\n",
    "disaruim_list = []\n",
    "for i in range(1,101):\n",
    "    if disarium_check(i) == True:\n",
    "        disaruim_list.append(i)\n",
    "        \n",
    "print(\"Disarium Number between 1 and 100 are : \",disaruim_list)\n",
    "    \n",
    "    "
   ]
  },
  {
   "cell_type": "markdown",
   "id": "9b14754f",
   "metadata": {},
   "source": [
    "#### 3.\tWrite a Python program to check if the given number is Happy Number?"
   ]
  },
  {
   "cell_type": "markdown",
   "id": "c50ac944",
   "metadata": {},
   "source": [
    "#### Answer:"
   ]
  },
  {
   "cell_type": "code",
   "execution_count": 20,
   "id": "e8d89d94",
   "metadata": {},
   "outputs": [],
   "source": [
    "def happynumber(n):\n",
    "    s = 0\n",
    "    con = None\n",
    "    p = set()\n",
    "    while n != 1:\n",
    "        for i in str(n):\n",
    "            s = s + (int(i)**2)\n",
    "        n = s\n",
    "        if n in p:\n",
    "            con = False\n",
    "            break\n",
    "        else:\n",
    "            con = True\n",
    "        p.add(n)\n",
    "        s = 0\n",
    "\n",
    "    if con == True or n == 1:\n",
    "        return True\n",
    "    else:\n",
    "        return False"
   ]
  },
  {
   "cell_type": "code",
   "execution_count": 34,
   "id": "6c48c894",
   "metadata": {},
   "outputs": [
    {
     "name": "stdout",
     "output_type": "stream",
     "text": [
      "Enter a number to check that the number is a happy number or not : 44\n",
      "Yes, the number is a happy number\n"
     ]
    }
   ],
   "source": [
    "number = input(\"Enter a number to check that the number is a happy number or not : \") \n",
    "\n",
    "if happynumber(number) == True:\n",
    "    print(\"Yes, the number is a happy number\")\n",
    "else:\n",
    "    print(\"No, the number is not a happy number\")"
   ]
  },
  {
   "cell_type": "markdown",
   "id": "1404207c",
   "metadata": {},
   "source": [
    "\n",
    "#### 4.\tWrite a Python program to print all happy numbers between 1 and 100?"
   ]
  },
  {
   "cell_type": "markdown",
   "id": "ee511d16",
   "metadata": {},
   "source": [
    "#### Answer:"
   ]
  },
  {
   "cell_type": "code",
   "execution_count": 38,
   "id": "93a6ce14",
   "metadata": {},
   "outputs": [
    {
     "name": "stdout",
     "output_type": "stream",
     "text": [
      "List of Happy number between 1 and 100 is :  [1, 7, 10, 13, 19, 23, 28, 31, 32, 44, 49, 68, 70, 79, 82, 86, 91, 94, 97, 100]\n"
     ]
    }
   ],
   "source": [
    "happy_list = []\n",
    "\n",
    "for i in range(1,101):\n",
    "    if happynumber(i) == True:\n",
    "        happy_list.append(i)\n",
    "        \n",
    "print(\"List of Happy number between 1 and 100 is : \",happy_list)"
   ]
  },
  {
   "cell_type": "markdown",
   "id": "daa46f26",
   "metadata": {},
   "source": [
    "#### 5.\tWrite a Python program to determine whether the given number is a Harshad Number?"
   ]
  },
  {
   "cell_type": "markdown",
   "id": "2b4e9584",
   "metadata": {},
   "source": [
    "#### Answer:"
   ]
  },
  {
   "cell_type": "code",
   "execution_count": 53,
   "id": "568fda20",
   "metadata": {},
   "outputs": [],
   "source": [
    "def harshad(n):\n",
    "    su = 0\n",
    "\n",
    "    for i in (str(n)):\n",
    "        su = su + (int(i))\n",
    "\n",
    "    if int(n) % su == 0:\n",
    "        return True\n",
    "    else:\n",
    "        return False\n"
   ]
  },
  {
   "cell_type": "code",
   "execution_count": 54,
   "id": "dcdb42b8",
   "metadata": {},
   "outputs": [
    {
     "name": "stdout",
     "output_type": "stream",
     "text": [
      "Enter a number to check that the number is a Harshad Number or not: 100\n",
      "The number is a Harshad Number\n"
     ]
    }
   ],
   "source": [
    "number = input(\"Enter a number to check that the number is a Harshad Number or not: \" )\n",
    "\n",
    "if harshad(number) == True:\n",
    "    print(\"The number is a Harshad Number\")\n",
    "else:\n",
    "    print(\"The number is not a Harshad Number\")"
   ]
  },
  {
   "cell_type": "markdown",
   "id": "22fc53bd",
   "metadata": {},
   "source": [
    "#### 6.\tWrite a Python program to print all pronic numbers between 1 and 100?"
   ]
  },
  {
   "cell_type": "code",
   "execution_count": 60,
   "id": "8eb39143",
   "metadata": {},
   "outputs": [
    {
     "name": "stdout",
     "output_type": "stream",
     "text": [
      "Pronic Number between 1 and 100 is :  [0, 2, 6, 12, 20, 30, 42, 56, 72, 90]\n"
     ]
    }
   ],
   "source": [
    "import math\n",
    "def checkPronic (x) :\n",
    "    i = 0\n",
    "    while (i <= (int(math.sqrt(x))) ) :\n",
    "        if ( x == i * (i + 1)) :\n",
    "            return True\n",
    "        i = i + 1\n",
    "    return False\n",
    " \n",
    "i = 0\n",
    "pronic_list = []\n",
    "while (i <= 100 ) :\n",
    "    if checkPronic(i) :\n",
    "        pronic_list.append(i)\n",
    "    i = i + 1\n",
    "\n",
    "print(\"Pronic Number between 1 and 100 is : \",pronic_list)"
   ]
  },
  {
   "cell_type": "code",
   "execution_count": null,
   "id": "bdf9f0f6",
   "metadata": {},
   "outputs": [],
   "source": []
  }
 ],
 "metadata": {
  "kernelspec": {
   "display_name": "Python 3",
   "language": "python",
   "name": "python3"
  },
  "language_info": {
   "codemirror_mode": {
    "name": "ipython",
    "version": 3
   },
   "file_extension": ".py",
   "mimetype": "text/x-python",
   "name": "python",
   "nbconvert_exporter": "python",
   "pygments_lexer": "ipython3",
   "version": "3.8.8"
  }
 },
 "nbformat": 4,
 "nbformat_minor": 5
}
